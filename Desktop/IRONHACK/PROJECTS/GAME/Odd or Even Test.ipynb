{
 "cells": [
  {
   "cell_type": "code",
   "execution_count": 8,
   "id": "13ffc0a0",
   "metadata": {},
   "outputs": [],
   "source": [
    "import random"
   ]
  },
  {
   "cell_type": "code",
   "execution_count": null,
   "id": "796bd7e8",
   "metadata": {},
   "outputs": [],
   "source": [
    "cpu_num = random.randint(1,6)"
   ]
  },
  {
   "cell_type": "code",
   "execution_count": null,
   "id": "7b9b333a",
   "metadata": {},
   "outputs": [],
   "source": [
    "user_selection = [\"Odd\", \"Even\"]"
   ]
  },
  {
   "cell_type": "code",
   "execution_count": null,
   "id": "21347d69",
   "metadata": {},
   "outputs": [],
   "source": [
    "num_rounds = 6"
   ]
  },
  {
   "cell_type": "code",
   "execution_count": null,
   "id": "b9c482ef",
   "metadata": {},
   "outputs": [],
   "source": [
    "lives = 10"
   ]
  },
  {
   "cell_type": "code",
   "execution_count": null,
   "id": "43016ae1",
   "metadata": {},
   "outputs": [],
   "source": [
    "def cpu_choice():\n",
    "    print(\"The computer's choice is\",cpu_num)\n",
    "    return cpu_num\n",
    "\n",
    "cpu_choice()"
   ]
  },
  {
   "cell_type": "code",
   "execution_count": null,
   "id": "50b5c97b",
   "metadata": {},
   "outputs": [],
   "source": [
    "def user_choice():\n",
    "    while(True):\n",
    "        choice = input(\"Odd or Even? \")\n",
    "        if choice in user_selection:\n",
    "            print(\"Your choice is\",choice)\n",
    "            return choice\n",
    "        else:\n",
    "            print(\"You did not write your answer correctly, please try again.\")\n",
    "            \n",
    "user_choice ()           "
   ]
  },
  {
   "cell_type": "code",
   "execution_count": null,
   "id": "a157c566",
   "metadata": {},
   "outputs": [],
   "source": [
    "user_lives = lives"
   ]
  },
  {
   "cell_type": "code",
   "execution_count": null,
   "id": "b0771bc8",
   "metadata": {},
   "outputs": [],
   "source": [
    "def round_result():\n",
    "    user_pick = user_choice()\n",
    "    cpu_pick = cpu_choice()\n",
    "    if cpu_pick % 2 == 0 and user_pick == \"Even\":\n",
    "        return user_lives + cpu_pick\n",
    "    if cpu_pick % 2 == 0 and user_pick == \"Odd\":\n",
    "        return user_lives - cpu_pick\n",
    "    if cpu_pick % 2 != 0 and user_pick == \"Even\":\n",
    "        return user_lives - cpu_pick\n",
    "    if cpu_pick % 2 != 0 and user_pick == \"Odd\":\n",
    "        return user_lives + cpu_pick"
   ]
  },
  {
   "cell_type": "code",
   "execution_count": null,
   "id": "94ef36f8",
   "metadata": {},
   "outputs": [],
   "source": [
    "def winner():\n",
    "    if user_lives > 0:\n",
    "        return (\"User won, computer lost\")\n",
    "    if user_lives <= 0:\n",
    "        return (\"Computer won, user lost\")\n"
   ]
  },
  {
   "cell_type": "code",
   "execution_count": 9,
   "id": "58cae026",
   "metadata": {},
   "outputs": [],
   "source": [
    "cpu_num = random.randint(1,6)\n",
    "user_selection = [\"Odd\", \"Even\"]\n",
    "\n",
    "def cpu_choice():\n",
    "    choice = random.randint(1,6)\n",
    "    print(\"The computer's choice is\",choice)\n",
    "    return choice\n",
    "\n",
    "def user_choice():\n",
    "    while(True):\n",
    "        choice = input(\"Odd or Even? \")\n",
    "        if choice in user_selection:\n",
    "            print(\"Your choice is\",choice)\n",
    "            return choice\n",
    "        else:\n",
    "            print(\"You did not write your answer correctly, please try again.\")            \n",
    "\n",
    "def round_result():\n",
    "    num_rounds = 0\n",
    "    user_lives = 10\n",
    "    while num_rounds < 8 and user_lives > 0:\n",
    "            user_pick = user_choice()\n",
    "            cpu_pick = cpu_choice()\n",
    "            if (cpu_pick % 2 == 0) and (user_pick == \"Even\"):\n",
    "                print (f'You have {user_lives + cpu_pick} lives left')\n",
    "                num_rounds += 1\n",
    "                user_lives = user_lives + cpu_pick\n",
    "            if (cpu_pick % 2 == 0) and (user_pick == \"Odd\"):\n",
    "                print (f'You have {user_lives - cpu_pick} lives left')\n",
    "                num_rounds += 1\n",
    "                user_lives = user_lives - cpu_pick\n",
    "            if (cpu_pick % 2 != 0) and (user_pick == \"Even\"):\n",
    "                print (f'You have {user_lives - cpu_pick} lives left')\n",
    "                num_rounds += 1\n",
    "                user_lives = user_lives - cpu_pick\n",
    "            if (cpu_pick % 2 != 0) and (user_pick == \"Odd\"):\n",
    "                print (f'You have {user_lives + cpu_pick} lives left')\n",
    "                num_rounds += 1\n",
    "                user_lives = user_lives + cpu_pick\n",
    "\n"
   ]
  },
  {
   "cell_type": "code",
   "execution_count": 22,
   "id": "08840835",
   "metadata": {
    "scrolled": true
   },
   "outputs": [
    {
     "name": "stdout",
     "output_type": "stream",
     "text": [
      "Odd or Even? Odd\n",
      "Your choice is Odd\n",
      "The computer's choice is 1\n",
      "You have 11 lives left\n"
     ]
    },
    {
     "data": {
      "text/plain": [
       "10"
      ]
     },
     "execution_count": 22,
     "metadata": {},
     "output_type": "execute_result"
    }
   ],
   "source": [
    "cpu_num = random.randint(1,6)\n",
    "user_selection = [\"Odd\", \"Even\"]\n",
    "\n",
    "def cpu_choice():\n",
    "    choice = random.randint(1,6)\n",
    "    print(\"The computer's choice is\",choice)\n",
    "    return choice\n",
    "\n",
    "def user_choice():\n",
    "    while(True):\n",
    "        choice = input(\"Odd or Even? \")\n",
    "        if choice in user_selection:\n",
    "            print(\"Your choice is\",choice)\n",
    "            return choice\n",
    "        else:\n",
    "            print(\"You did not write your answer correctly, please try again.\")            \n",
    "\n",
    "def round_result():\n",
    "    num_rounds = 0\n",
    "    user_lives = 10\n",
    "    while num_rounds < 8 and user_lives > 0:\n",
    "            user_pick = user_choice()\n",
    "            cpu_pick = cpu_choice()\n",
    "            if (cpu_pick % 2 == 0) and (user_pick == \"Even\"):\n",
    "                    print (f'You have {user_lives + cpu_pick} lives left')\n",
    "                    num_rounds += 1\n",
    "                    user_lives = user_lives + cpu_pick\n",
    "                    return num_rounds\n",
    "                    return user_lives\n",
    "            if (cpu_pick % 2 == 0) and (user_pick == \"Odd\"):\n",
    "                    print (f'You have {user_lives - cpu_pick} lives left')\n",
    "                    num_rounds += 1\n",
    "                    user_lives = user_lives - cpu_pick\n",
    "                    return num_rounds\n",
    "                    return user_lives\n",
    "            if (cpu_pick % 2 != 0) and (user_pick == \"Even\"):\n",
    "                    print (f'You have {user_lives - cpu_pick} lives left')\n",
    "                    num_rounds += 1\n",
    "                    user_lives = user_lives - cpu_pick\n",
    "                    return num_rounds\n",
    "                    return user_lives\n",
    "            if (cpu_pick % 2 != 0) and (user_pick == \"Odd\"):\n",
    "                    print (f'You have {user_lives + cpu_pick} lives left')\n",
    "                    num_rounds += 1\n",
    "                    user_lives = user_lives + cpu_pick\n",
    "                    return num_rounds\n",
    "                    return user_lives\n",
    "\n",
    "def winner():\n",
    "    while round_result():\n",
    "        num_rounds = 0\n",
    "        user_lives = 10\n",
    "        return user_lives\n",
    "        return num_rounds\n",
    "        if user_lives > 0 and num_rounds == 8:\n",
    "                    return print (\"You won\")\n",
    "        if user_lives <= 0:\n",
    "                    return print (\"You won\")\n",
    "        \n",
    "winner()"
   ]
  },
  {
   "cell_type": "code",
   "execution_count": null,
   "id": "a99a3bd5",
   "metadata": {},
   "outputs": [],
   "source": []
  },
  {
   "cell_type": "code",
   "execution_count": null,
   "id": "d4f31d64",
   "metadata": {},
   "outputs": [],
   "source": [
    "def winner():\n",
    "    user_won = user_lives > 0 and num_rounds == 8\n",
    "    cpu_won = user_lives < 0\n",
    "    game = round_result()\n",
    "    while game:\n",
    "        if user_won is True:\n",
    "            print ('You won')\n",
    "        if cpu_won is True:\n",
    "                print ('Cpu won')\n",
    "                \n",
    "winner()"
   ]
  },
  {
   "cell_type": "code",
   "execution_count": 18,
   "id": "d873dbf5",
   "metadata": {},
   "outputs": [
    {
     "name": "stdout",
     "output_type": "stream",
     "text": [
      "Odd or Even? Odd\n",
      "Your choice is Odd\n",
      "The computer's choice is 2\n",
      "You have 8 lives left\n",
      "Odd or Even? Odd\n",
      "Your choice is Odd\n",
      "The computer's choice is 3\n",
      "You have 11 lives left\n",
      "Odd or Even? Odd\n",
      "Your choice is Odd\n",
      "The computer's choice is 4\n",
      "You have 7 lives left\n",
      "Odd or Even? Odd\n",
      "Your choice is Odd\n",
      "The computer's choice is 4\n",
      "You have 3 lives left\n"
     ]
    },
    {
     "ename": "KeyboardInterrupt",
     "evalue": "Interrupted by user",
     "output_type": "error",
     "traceback": [
      "\u001b[0;31m---------------------------------------------------------------------------\u001b[0m",
      "\u001b[0;31mKeyboardInterrupt\u001b[0m                         Traceback (most recent call last)",
      "\u001b[0;32m<ipython-input-18-7097e46fba30>\u001b[0m in \u001b[0;36m<module>\u001b[0;34m\u001b[0m\n\u001b[1;32m      5\u001b[0m             \u001b[0;32mreturn\u001b[0m \u001b[0mprint\u001b[0m \u001b[0;34m(\u001b[0m\u001b[0;34m\"You won\"\u001b[0m\u001b[0;34m)\u001b[0m\u001b[0;34m\u001b[0m\u001b[0;34m\u001b[0m\u001b[0m\n\u001b[1;32m      6\u001b[0m \u001b[0;34m\u001b[0m\u001b[0m\n\u001b[0;32m----> 7\u001b[0;31m \u001b[0mwinner\u001b[0m\u001b[0;34m(\u001b[0m\u001b[0;34m)\u001b[0m\u001b[0;34m\u001b[0m\u001b[0;34m\u001b[0m\u001b[0m\n\u001b[0m",
      "\u001b[0;32m<ipython-input-18-7097e46fba30>\u001b[0m in \u001b[0;36mwinner\u001b[0;34m()\u001b[0m\n\u001b[1;32m      1\u001b[0m \u001b[0;32mdef\u001b[0m \u001b[0mwinner\u001b[0m\u001b[0;34m(\u001b[0m\u001b[0;34m)\u001b[0m\u001b[0;34m:\u001b[0m\u001b[0;34m\u001b[0m\u001b[0;34m\u001b[0m\u001b[0m\n\u001b[0;32m----> 2\u001b[0;31m     \u001b[0mround_x\u001b[0m \u001b[0;34m=\u001b[0m \u001b[0mround_result\u001b[0m\u001b[0;34m(\u001b[0m\u001b[0;34m)\u001b[0m\u001b[0;34m\u001b[0m\u001b[0;34m\u001b[0m\u001b[0m\n\u001b[0m\u001b[1;32m      3\u001b[0m     \u001b[0;32mwhile\u001b[0m \u001b[0mround_x\u001b[0m\u001b[0;34m:\u001b[0m\u001b[0;34m\u001b[0m\u001b[0;34m\u001b[0m\u001b[0m\n\u001b[1;32m      4\u001b[0m         \u001b[0;32mif\u001b[0m \u001b[0muser_lives\u001b[0m \u001b[0;34m>\u001b[0m \u001b[0;36m0\u001b[0m \u001b[0;32mand\u001b[0m \u001b[0mnum_rounds\u001b[0m \u001b[0;34m==\u001b[0m \u001b[0;36m8\u001b[0m\u001b[0;34m:\u001b[0m\u001b[0;34m\u001b[0m\u001b[0;34m\u001b[0m\u001b[0m\n\u001b[1;32m      5\u001b[0m             \u001b[0;32mreturn\u001b[0m \u001b[0mprint\u001b[0m \u001b[0;34m(\u001b[0m\u001b[0;34m\"You won\"\u001b[0m\u001b[0;34m)\u001b[0m\u001b[0;34m\u001b[0m\u001b[0;34m\u001b[0m\u001b[0m\n",
      "\u001b[0;32m<ipython-input-4-7f623a4a4798>\u001b[0m in \u001b[0;36mround_result\u001b[0;34m()\u001b[0m\n\u001b[1;32m     20\u001b[0m     \u001b[0muser_lives\u001b[0m \u001b[0;34m=\u001b[0m \u001b[0;36m10\u001b[0m\u001b[0;34m\u001b[0m\u001b[0;34m\u001b[0m\u001b[0m\n\u001b[1;32m     21\u001b[0m     \u001b[0;32mwhile\u001b[0m \u001b[0mnum_rounds\u001b[0m \u001b[0;34m<\u001b[0m \u001b[0;36m8\u001b[0m \u001b[0;32mand\u001b[0m \u001b[0muser_lives\u001b[0m \u001b[0;34m>\u001b[0m \u001b[0;36m0\u001b[0m\u001b[0;34m:\u001b[0m\u001b[0;34m\u001b[0m\u001b[0;34m\u001b[0m\u001b[0m\n\u001b[0;32m---> 22\u001b[0;31m             \u001b[0muser_pick\u001b[0m \u001b[0;34m=\u001b[0m \u001b[0muser_choice\u001b[0m\u001b[0;34m(\u001b[0m\u001b[0;34m)\u001b[0m\u001b[0;34m\u001b[0m\u001b[0;34m\u001b[0m\u001b[0m\n\u001b[0m\u001b[1;32m     23\u001b[0m             \u001b[0mcpu_pick\u001b[0m \u001b[0;34m=\u001b[0m \u001b[0mcpu_choice\u001b[0m\u001b[0;34m(\u001b[0m\u001b[0;34m)\u001b[0m\u001b[0;34m\u001b[0m\u001b[0;34m\u001b[0m\u001b[0m\n\u001b[1;32m     24\u001b[0m             \u001b[0;32mif\u001b[0m \u001b[0;34m(\u001b[0m\u001b[0mcpu_pick\u001b[0m \u001b[0;34m%\u001b[0m \u001b[0;36m2\u001b[0m \u001b[0;34m==\u001b[0m \u001b[0;36m0\u001b[0m\u001b[0;34m)\u001b[0m \u001b[0;32mand\u001b[0m \u001b[0;34m(\u001b[0m\u001b[0muser_pick\u001b[0m \u001b[0;34m==\u001b[0m \u001b[0;34m\"Even\"\u001b[0m\u001b[0;34m)\u001b[0m\u001b[0;34m:\u001b[0m\u001b[0;34m\u001b[0m\u001b[0;34m\u001b[0m\u001b[0m\n",
      "\u001b[0;32m<ipython-input-4-7f623a4a4798>\u001b[0m in \u001b[0;36muser_choice\u001b[0;34m()\u001b[0m\n\u001b[1;32m      9\u001b[0m \u001b[0;32mdef\u001b[0m \u001b[0muser_choice\u001b[0m\u001b[0;34m(\u001b[0m\u001b[0;34m)\u001b[0m\u001b[0;34m:\u001b[0m\u001b[0;34m\u001b[0m\u001b[0;34m\u001b[0m\u001b[0m\n\u001b[1;32m     10\u001b[0m     \u001b[0;32mwhile\u001b[0m\u001b[0;34m(\u001b[0m\u001b[0;32mTrue\u001b[0m\u001b[0;34m)\u001b[0m\u001b[0;34m:\u001b[0m\u001b[0;34m\u001b[0m\u001b[0;34m\u001b[0m\u001b[0m\n\u001b[0;32m---> 11\u001b[0;31m         \u001b[0mchoice\u001b[0m \u001b[0;34m=\u001b[0m \u001b[0minput\u001b[0m\u001b[0;34m(\u001b[0m\u001b[0;34m\"Odd or Even? \"\u001b[0m\u001b[0;34m)\u001b[0m\u001b[0;34m\u001b[0m\u001b[0;34m\u001b[0m\u001b[0m\n\u001b[0m\u001b[1;32m     12\u001b[0m         \u001b[0;32mif\u001b[0m \u001b[0mchoice\u001b[0m \u001b[0;32min\u001b[0m \u001b[0muser_selection\u001b[0m\u001b[0;34m:\u001b[0m\u001b[0;34m\u001b[0m\u001b[0;34m\u001b[0m\u001b[0m\n\u001b[1;32m     13\u001b[0m             \u001b[0mprint\u001b[0m\u001b[0;34m(\u001b[0m\u001b[0;34m\"Your choice is\"\u001b[0m\u001b[0;34m,\u001b[0m\u001b[0mchoice\u001b[0m\u001b[0;34m)\u001b[0m\u001b[0;34m\u001b[0m\u001b[0;34m\u001b[0m\u001b[0m\n",
      "\u001b[0;32m~/opt/anaconda3/lib/python3.8/site-packages/ipykernel/kernelbase.py\u001b[0m in \u001b[0;36mraw_input\u001b[0;34m(self, prompt)\u001b[0m\n\u001b[1;32m    858\u001b[0m                 \u001b[0;34m\"raw_input was called, but this frontend does not support input requests.\"\u001b[0m\u001b[0;34m\u001b[0m\u001b[0;34m\u001b[0m\u001b[0m\n\u001b[1;32m    859\u001b[0m             )\n\u001b[0;32m--> 860\u001b[0;31m         return self._input_request(str(prompt),\n\u001b[0m\u001b[1;32m    861\u001b[0m             \u001b[0mself\u001b[0m\u001b[0;34m.\u001b[0m\u001b[0m_parent_ident\u001b[0m\u001b[0;34m,\u001b[0m\u001b[0;34m\u001b[0m\u001b[0;34m\u001b[0m\u001b[0m\n\u001b[1;32m    862\u001b[0m             \u001b[0mself\u001b[0m\u001b[0;34m.\u001b[0m\u001b[0m_parent_header\u001b[0m\u001b[0;34m,\u001b[0m\u001b[0;34m\u001b[0m\u001b[0;34m\u001b[0m\u001b[0m\n",
      "\u001b[0;32m~/opt/anaconda3/lib/python3.8/site-packages/ipykernel/kernelbase.py\u001b[0m in \u001b[0;36m_input_request\u001b[0;34m(self, prompt, ident, parent, password)\u001b[0m\n\u001b[1;32m    902\u001b[0m             \u001b[0;32mexcept\u001b[0m \u001b[0mKeyboardInterrupt\u001b[0m\u001b[0;34m:\u001b[0m\u001b[0;34m\u001b[0m\u001b[0;34m\u001b[0m\u001b[0m\n\u001b[1;32m    903\u001b[0m                 \u001b[0;31m# re-raise KeyboardInterrupt, to truncate traceback\u001b[0m\u001b[0;34m\u001b[0m\u001b[0;34m\u001b[0m\u001b[0;34m\u001b[0m\u001b[0m\n\u001b[0;32m--> 904\u001b[0;31m                 \u001b[0;32mraise\u001b[0m \u001b[0mKeyboardInterrupt\u001b[0m\u001b[0;34m(\u001b[0m\u001b[0;34m\"Interrupted by user\"\u001b[0m\u001b[0;34m)\u001b[0m \u001b[0;32mfrom\u001b[0m \u001b[0;32mNone\u001b[0m\u001b[0;34m\u001b[0m\u001b[0;34m\u001b[0m\u001b[0m\n\u001b[0m\u001b[1;32m    905\u001b[0m             \u001b[0;32mexcept\u001b[0m \u001b[0mException\u001b[0m \u001b[0;32mas\u001b[0m \u001b[0me\u001b[0m\u001b[0;34m:\u001b[0m\u001b[0;34m\u001b[0m\u001b[0;34m\u001b[0m\u001b[0m\n\u001b[1;32m    906\u001b[0m                 \u001b[0mself\u001b[0m\u001b[0;34m.\u001b[0m\u001b[0mlog\u001b[0m\u001b[0;34m.\u001b[0m\u001b[0mwarning\u001b[0m\u001b[0;34m(\u001b[0m\u001b[0;34m\"Invalid Message:\"\u001b[0m\u001b[0;34m,\u001b[0m \u001b[0mexc_info\u001b[0m\u001b[0;34m=\u001b[0m\u001b[0;32mTrue\u001b[0m\u001b[0;34m)\u001b[0m\u001b[0;34m\u001b[0m\u001b[0;34m\u001b[0m\u001b[0m\n",
      "\u001b[0;31mKeyboardInterrupt\u001b[0m: Interrupted by user"
     ]
    }
   ],
   "source": [
    "def winner():\n",
    "    round_x = round_result()\n",
    "    while round_x:\n",
    "        if user_lives > 0 and num_rounds == 8:\n",
    "            return print (\"You won\")\n",
    "        \n",
    "winner()"
   ]
  },
  {
   "cell_type": "code",
   "execution_count": 1,
   "id": "87cac262",
   "metadata": {},
   "outputs": [
    {
     "ename": "NameError",
     "evalue": "name 'round_result' is not defined",
     "output_type": "error",
     "traceback": [
      "\u001b[0;31m---------------------------------------------------------------------------\u001b[0m",
      "\u001b[0;31mNameError\u001b[0m                                 Traceback (most recent call last)",
      "\u001b[0;32m<ipython-input-1-dd4bebcb5fd0>\u001b[0m in \u001b[0;36m<module>\u001b[0;34m\u001b[0m\n\u001b[1;32m      8\u001b[0m             \u001b[0;32mreturn\u001b[0m \u001b[0mprint\u001b[0m \u001b[0;34m(\u001b[0m\u001b[0;34m\"You won\"\u001b[0m\u001b[0;34m)\u001b[0m\u001b[0;34m\u001b[0m\u001b[0;34m\u001b[0m\u001b[0m\n\u001b[1;32m      9\u001b[0m \u001b[0;34m\u001b[0m\u001b[0m\n\u001b[0;32m---> 10\u001b[0;31m \u001b[0mwinner\u001b[0m\u001b[0;34m(\u001b[0m\u001b[0;34m)\u001b[0m\u001b[0;34m\u001b[0m\u001b[0;34m\u001b[0m\u001b[0m\n\u001b[0m",
      "\u001b[0;32m<ipython-input-1-dd4bebcb5fd0>\u001b[0m in \u001b[0;36mwinner\u001b[0;34m()\u001b[0m\n\u001b[1;32m      1\u001b[0m \u001b[0;32mdef\u001b[0m \u001b[0mwinner\u001b[0m\u001b[0;34m(\u001b[0m\u001b[0;34m)\u001b[0m\u001b[0;34m:\u001b[0m\u001b[0;34m\u001b[0m\u001b[0;34m\u001b[0m\u001b[0m\n\u001b[0;32m----> 2\u001b[0;31m     \u001b[0;32mwhile\u001b[0m \u001b[0mround_result\u001b[0m\u001b[0;34m(\u001b[0m\u001b[0;34m)\u001b[0m\u001b[0;34m:\u001b[0m\u001b[0;34m\u001b[0m\u001b[0;34m\u001b[0m\u001b[0m\n\u001b[0m\u001b[1;32m      3\u001b[0m         \u001b[0;32mreturn\u001b[0m \u001b[0muser_lives\u001b[0m\u001b[0;34m\u001b[0m\u001b[0;34m\u001b[0m\u001b[0m\n\u001b[1;32m      4\u001b[0m         \u001b[0;32mreturn\u001b[0m \u001b[0mnum_rounds\u001b[0m\u001b[0;34m\u001b[0m\u001b[0;34m\u001b[0m\u001b[0m\n\u001b[1;32m      5\u001b[0m         \u001b[0;32mif\u001b[0m \u001b[0muser_lives\u001b[0m \u001b[0;34m>\u001b[0m \u001b[0;36m0\u001b[0m \u001b[0;32mand\u001b[0m \u001b[0mnum_rounds\u001b[0m \u001b[0;34m==\u001b[0m \u001b[0;36m8\u001b[0m\u001b[0;34m:\u001b[0m\u001b[0;34m\u001b[0m\u001b[0;34m\u001b[0m\u001b[0m\n",
      "\u001b[0;31mNameError\u001b[0m: name 'round_result' is not defined"
     ]
    }
   ],
   "source": [
    "def winner():\n",
    "    while round_result():\n",
    "        return user_lives\n",
    "        return num_rounds\n",
    "        if user_lives > 0 and num_rounds == 8:\n",
    "            return print (\"You won\")\n",
    "        if user_lives <= 0:\n",
    "            return print (\"You won\")\n",
    "        \n",
    "winner()"
   ]
  },
  {
   "cell_type": "code",
   "execution_count": null,
   "id": "dc0e031c",
   "metadata": {},
   "outputs": [],
   "source": []
  }
 ],
 "metadata": {
  "kernelspec": {
   "display_name": "Python 3",
   "language": "python",
   "name": "python3"
  },
  "language_info": {
   "codemirror_mode": {
    "name": "ipython",
    "version": 3
   },
   "file_extension": ".py",
   "mimetype": "text/x-python",
   "name": "python",
   "nbconvert_exporter": "python",
   "pygments_lexer": "ipython3",
   "version": "3.8.8"
  }
 },
 "nbformat": 4,
 "nbformat_minor": 5
}
