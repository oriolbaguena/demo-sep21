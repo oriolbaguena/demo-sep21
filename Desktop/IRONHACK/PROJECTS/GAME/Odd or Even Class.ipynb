{
 "cells": [
  {
   "cell_type": "code",
   "execution_count": 4,
   "id": "4b8ba637",
   "metadata": {},
   "outputs": [],
   "source": [
    "import random\n",
    "\n",
    "class Game:\n",
    "    \n",
    "    def __init__(self, cpu_num, user_selection):\n",
    "        self.cpu_num = random.randint(1,6)\n",
    "        self.user_selection = [\"Odd\", \"Even\"]\n",
    "\n",
    "    def cpu_choice(self, cpu_choice):\n",
    "        self.cpu_choice = random.randint(1,6)\n",
    "        print(\"The computer's choice is\",choice)\n",
    "        return self.cpu_choice\n",
    "\n",
    "    def user_choice(self, user_choice):\n",
    "        while(True):\n",
    "            self.user_choice = input(\"Odd or Even? \")\n",
    "            if choice in sself.user_selection:\n",
    "                print(\"Your choice is\",choice)\n",
    "                return self.user_choice\n",
    "            else:\n",
    "                print(\"You did not write your answer correctly, please try again.\")            \n",
    "\n",
    "    def round_result(self):\n",
    "        self.num_rounds = 0\n",
    "        self.user_lives = 10\n",
    "        while num_rounds < 8 and user_lives > 0:\n",
    "                user_pick = self.user_choice()\n",
    "                cpu_pick = self.cpu_choice()\n",
    "                if (cpu_pick % 2 == 0) and (user_pick == \"Even\"):\n",
    "                        print (f'You have {self.user_lives + self.cpu_pick} lives left')\n",
    "                        self.num_rounds += 1\n",
    "                        self.user_lives = user_lives + cpu_pick\n",
    "                        return self.num_rounds\n",
    "                        return self.user_lives\n",
    "                if (cpu_pick % 2 == 0) and (user_pick == \"Odd\"):\n",
    "                        print (f'You have {self.user_lives - self.cpu_pick} lives left')\n",
    "                        self.num_rounds += 1\n",
    "                        self.user_lives = user_lives - cpu_pick\n",
    "                        return self.num_rounds\n",
    "                        return self.user_lives\n",
    "                if (cpu_pick % 2 != 0) and (user_pick == \"Even\"):\n",
    "                        print (f'You have {self.user_lives - self.cpu_pick} lives left')\n",
    "                        self.num_rounds += 1\n",
    "                        self.user_lives = user_lives - cpu_pick\n",
    "                        return self.num_rounds\n",
    "                        return self.user_lives\n",
    "                if (cpu_pick % 2 != 0) and (user_pick == \"Odd\"):\n",
    "                        print (f'You have {self.user_lives + self.cpu_pick} lives left')\n",
    "                        self.num_rounds += 1\n",
    "                        self.user_lives = user_lives + cpu_pick\n",
    "                        return self.num_rounds\n",
    "                        return self.user_lives"
   ]
  },
  {
   "cell_type": "code",
   "execution_count": null,
   "id": "d00c3ffc",
   "metadata": {},
   "outputs": [],
   "source": []
  }
 ],
 "metadata": {
  "kernelspec": {
   "display_name": "Python 3",
   "language": "python",
   "name": "python3"
  },
  "language_info": {
   "codemirror_mode": {
    "name": "ipython",
    "version": 3
   },
   "file_extension": ".py",
   "mimetype": "text/x-python",
   "name": "python",
   "nbconvert_exporter": "python",
   "pygments_lexer": "ipython3",
   "version": "3.8.8"
  }
 },
 "nbformat": 4,
 "nbformat_minor": 5
}
